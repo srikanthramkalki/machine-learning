{
  "nbformat": 4,
  "nbformat_minor": 0,
  "metadata": {
    "colab": {
      "private_outputs": true,
      "provenance": []
    },
    "kernelspec": {
      "name": "python3",
      "display_name": "Python 3"
    },
    "language_info": {
      "name": "python"
    }
  },
  "cells": [
    {
      "cell_type": "markdown",
      "source": [
        "PROJECT  NAME :\n",
        "MOVIE RECOMMENDATION\n"
      ],
      "metadata": {
        "id": "-0xIdG8ZlEhY"
      }
    },
    {
      "cell_type": "code",
      "source": [
        "import numpy as np\n",
        "import pandas as pd\n",
        "import difflib\n",
        "from sklearn.feature_extraction.text import TfidfVectorizer\n",
        "# TfidfVectorizer - This is used to convert text data into numerical values\n",
        "from sklearn.metrics.pairwise import cosine_similarity\n",
        "import os\n"
      ],
      "metadata": {
        "id": "Hc39qRuVlnRm"
      },
      "execution_count": null,
      "outputs": []
    },
    {
      "cell_type": "code",
      "source": [
        "!pwd"
      ],
      "metadata": {
        "id": "IPhvICFNyCJi"
      },
      "execution_count": null,
      "outputs": []
    },
    {
      "source": [
        "os.chdir= ('C:\\\\Users\\\\Admin\\\\Desktop\\\\movie recommendation')"
      ],
      "cell_type": "code",
      "metadata": {
        "id": "uMX8kRCDO6LH"
      },
      "execution_count": null,
      "outputs": []
    },
    {
      "source": [
        "print(os.chdir)"
      ],
      "cell_type": "code",
      "metadata": {
        "id": "PUpfIft9PhYz"
      },
      "execution_count": null,
      "outputs": []
    },
    {
      "cell_type": "code",
      "source": [
        "movies_data =pd.read_csv('movies.csv')\n"
      ],
      "metadata": {
        "id": "wrXpXZTgziHM"
      },
      "execution_count": null,
      "outputs": []
    },
    {
      "cell_type": "code",
      "source": [
        "movies_data.head()"
      ],
      "metadata": {
        "id": "ogvLeYO90J4K"
      },
      "execution_count": null,
      "outputs": []
    },
    {
      "cell_type": "code",
      "source": [
        "display (movies_data.shape)\n"
      ],
      "metadata": {
        "id": "cbeU-EFP0OtM"
      },
      "execution_count": null,
      "outputs": []
    },
    {
      "cell_type": "code",
      "source": [
        "selected_features = ['genres','keywords','tagline','cast','director']\n"
      ],
      "metadata": {
        "id": "xKoJQtKF0hjx"
      },
      "execution_count": null,
      "outputs": []
    },
    {
      "cell_type": "code",
      "source": [
        "print(selected_features)\n"
      ],
      "metadata": {
        "id": "bpYGaTM40nEB"
      },
      "execution_count": null,
      "outputs": []
    },
    {
      "cell_type": "code",
      "source": [
        "display (movies_data.info())\n"
      ],
      "metadata": {
        "id": "Sy3YwWzW0sUp"
      },
      "execution_count": null,
      "outputs": []
    },
    {
      "cell_type": "code",
      "source": [
        "display (movies_data.isna().sum())\n"
      ],
      "metadata": {
        "id": "ysWzUPrW0wiJ"
      },
      "execution_count": null,
      "outputs": []
    },
    {
      "cell_type": "code",
      "source": [
        "display (movies_data[selected_features].head())\n"
      ],
      "metadata": {
        "id": "Zfx3cNaW01bZ"
      },
      "execution_count": null,
      "outputs": []
    },
    {
      "cell_type": "code",
      "source": [
        "display (movies_data[selected_features].isna().sum())\n",
        "\n"
      ],
      "metadata": {
        "id": "rwM3mCaN05KY"
      },
      "execution_count": null,
      "outputs": []
    },
    {
      "cell_type": "code",
      "source": [
        "for feature in selected_features:\n",
        "  movies_data[feature] = movies_data[feature].fillna('')\n",
        "display (movies_data.head())\n",
        "\n"
      ],
      "metadata": {
        "id": "KLP4-h2B09Pg"
      },
      "execution_count": null,
      "outputs": []
    },
    {
      "cell_type": "code",
      "source": [
        "combined_features = movies_data['genres']+' '+movies_data['keywords']+' '+movies_data['tagline']+' '+movies_data['cast']+' '+movies_data['director']\n",
        "display (combined_features)\n"
      ],
      "metadata": {
        "id": "Q--YWfBt1CwK"
      },
      "execution_count": null,
      "outputs": []
    },
    {
      "cell_type": "code",
      "source": [
        "vectorizer = TfidfVectorizer()\n",
        "feature_vectors = vectorizer.fit_transform(combined_features)\n",
        "display (feature_vectors.shape)\n",
        "print (feature_vectors)\n"
      ],
      "metadata": {
        "id": "sU2CMaEc1Gf_"
      },
      "execution_count": null,
      "outputs": []
    },
    {
      "cell_type": "code",
      "source": [
        "similarity = cosine_similarity(feature_vectors)\n",
        "print  (similarity )\n"
      ],
      "metadata": {
        "id": "SCav7E8E1Lpw"
      },
      "execution_count": null,
      "outputs": []
    },
    {
      "cell_type": "code",
      "source": [
        "display(similarity.shape)\n"
      ],
      "metadata": {
        "id": "g7ySKso51Q9Q"
      },
      "execution_count": null,
      "outputs": []
    },
    {
      "cell_type": "code",
      "source": [
        "movie_name = input(' Enter your favourite movie name : ')\n"
      ],
      "metadata": {
        "id": "l9gK4TNw1VCA"
      },
      "execution_count": null,
      "outputs": []
    },
    {
      "cell_type": "code",
      "source": [
        "list_of_all_titles = movies_data['title'].tolist()\n"
      ],
      "metadata": {
        "id": "UAUPreBT2urL"
      },
      "execution_count": null,
      "outputs": []
    },
    {
      "cell_type": "code",
      "source": [
        "print(list_of_all_titles)"
      ],
      "metadata": {
        "id": "pBqYta5t227s"
      },
      "execution_count": null,
      "outputs": []
    },
    {
      "cell_type": "code",
      "source": [
        "len(list_of_all_titles)\n"
      ],
      "metadata": {
        "id": "b9Potkyu25Zr"
      },
      "execution_count": null,
      "outputs": []
    },
    {
      "cell_type": "code",
      "source": [
        "find_close_match = difflib.get_close_matches(movie_name, list_of_all_titles)\n"
      ],
      "metadata": {
        "id": "O-kMoL8t2_HL"
      },
      "execution_count": null,
      "outputs": []
    },
    {
      "cell_type": "code",
      "source": [
        "print(find_close_match)\n",
        "\n"
      ],
      "metadata": {
        "id": "ibLWmEXP3C6z"
      },
      "execution_count": null,
      "outputs": []
    },
    {
      "cell_type": "code",
      "source": [
        "close_match = find_close_match[0]\n"
      ],
      "metadata": {
        "id": "QRVS5MVT3GGj"
      },
      "execution_count": null,
      "outputs": []
    },
    {
      "cell_type": "code",
      "source": [
        "print(close_match)"
      ],
      "metadata": {
        "id": "hF5EB1rq3JxL"
      },
      "execution_count": null,
      "outputs": []
    },
    {
      "cell_type": "code",
      "source": [
        "index_of_the_movie = movies_data[movies_data.title == close_match]['index'].values[0]\n"
      ],
      "metadata": {
        "id": "BhzvCuG53Mi8"
      },
      "execution_count": null,
      "outputs": []
    },
    {
      "cell_type": "code",
      "source": [
        "print(index_of_the_movie)\n",
        "\n"
      ],
      "metadata": {
        "id": "fL5RJ3O73QBq"
      },
      "execution_count": null,
      "outputs": []
    },
    {
      "cell_type": "code",
      "source": [
        "similarity_score = list(enumerate(similarity[index_of_the_movie]))\n"
      ],
      "metadata": {
        "id": "h03R0OO83S6b"
      },
      "execution_count": null,
      "outputs": []
    },
    {
      "cell_type": "code",
      "source": [
        "print(similarity_score)\n"
      ],
      "metadata": {
        "id": "kvqe8Ejr3W3K"
      },
      "execution_count": null,
      "outputs": []
    },
    {
      "cell_type": "code",
      "source": [
        "len(similarity_score)\n"
      ],
      "metadata": {
        "id": "9z4BLBcV3Zdi"
      },
      "execution_count": null,
      "outputs": []
    },
    {
      "cell_type": "code",
      "source": [
        "sorted_similar_movies = sorted(similarity_score, key = lambda x:x[1], reverse = True)\n"
      ],
      "metadata": {
        "id": "a3qdAs-H3dES"
      },
      "execution_count": null,
      "outputs": []
    },
    {
      "cell_type": "code",
      "source": [
        "print(sorted_similar_movies)"
      ],
      "metadata": {
        "id": "aJ6d4TG83ghU"
      },
      "execution_count": null,
      "outputs": []
    },
    {
      "cell_type": "code",
      "source": [
        "print('Movies suggested for you : \\n')\n",
        "i = 1\n",
        "for movie in sorted_similar_movies:\n",
        "  index = movie[0]\n",
        "  title_from_index = movies_data[movies_data.index==index]['title'].values[0]\n",
        "  if (i<30):\n",
        "    print(i, '.',title_from_index)\n",
        "    i+=1\n"
      ],
      "metadata": {
        "id": "qSTG-4ql3uCR"
      },
      "execution_count": null,
      "outputs": []
    },
    {
      "cell_type": "code",
      "source": [
        "movie_name = input(' Enter your favourite movie name : ')\n"
      ],
      "metadata": {
        "id": "V844LHDj3zwB"
      },
      "execution_count": null,
      "outputs": []
    },
    {
      "cell_type": "code",
      "source": [
        "list_of_all_titles = movies_data['title'].tolist()\n"
      ],
      "metadata": {
        "id": "CDpl4apS34tL"
      },
      "execution_count": null,
      "outputs": []
    },
    {
      "cell_type": "code",
      "source": [
        "find_close_match = difflib.get_close_matches(movie_name, list_of_all_titles)\n"
      ],
      "metadata": {
        "id": "JPNQTYZK3_Ux"
      },
      "execution_count": null,
      "outputs": []
    },
    {
      "cell_type": "code",
      "source": [
        "close_match = find_close_match[0]\n"
      ],
      "metadata": {
        "id": "gG1zeJJx4CDY"
      },
      "execution_count": null,
      "outputs": []
    },
    {
      "cell_type": "code",
      "source": [
        "\n",
        "index_of_the_movie = movies_data[movies_data.title == close_match]['index'].values[0]\n"
      ],
      "metadata": {
        "id": "6fzCLYV34EcJ"
      },
      "execution_count": null,
      "outputs": []
    },
    {
      "cell_type": "code",
      "source": [
        "similarity_score = list(enumerate(similarity[index_of_the_movie]))\n"
      ],
      "metadata": {
        "id": "WXiNb4jM4HGR"
      },
      "execution_count": null,
      "outputs": []
    },
    {
      "cell_type": "code",
      "source": [
        "sorted_similar_movies = sorted(similarity_score, key = lambda x:x[1], reverse = True)\n"
      ],
      "metadata": {
        "id": "OmbiM_hK4JeJ"
      },
      "execution_count": null,
      "outputs": []
    },
    {
      "cell_type": "code",
      "source": [
        "print('Movies suggested for you : \\n')\n",
        "\n",
        "i = 1\n",
        "\n",
        "for movie in sorted_similar_movies:\n",
        "  index = movie[0]\n",
        "  title_from_index = movies_data[movies_data.index==index]['title'].values[0]\n",
        "  if (i<30):\n",
        "    print(i, '.',title_from_index)\n",
        "    i+=1\n"
      ],
      "metadata": {
        "id": "uSFB6ZNP4M4Y"
      },
      "execution_count": null,
      "outputs": []
    },
    {
      "cell_type": "code",
      "source": [],
      "metadata": {
        "id": "hY599nlHmKjq"
      },
      "execution_count": null,
      "outputs": []
    }
  ]
}